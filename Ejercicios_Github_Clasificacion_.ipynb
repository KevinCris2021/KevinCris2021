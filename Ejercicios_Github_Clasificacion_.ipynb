{
  "nbformat": 4,
  "nbformat_minor": 0,
  "metadata": {
    "colab": {
      "name": "Ejercicios Github - Clasificacion .ipynb",
      "provenance": [],
      "mount_file_id": "1UVlWgSAYd81B194Zf2p_OCYcBqnvsn0i",
      "authorship_tag": "ABX9TyP9dfOj7fh21AwpRQLSO7Ko",
      "include_colab_link": true
    },
    "kernelspec": {
      "name": "python3",
      "display_name": "Python 3"
    },
    "language_info": {
      "name": "python"
    }
  },
  "cells": [
    {
      "cell_type": "markdown",
      "metadata": {
        "id": "view-in-github",
        "colab_type": "text"
      },
      "source": [
        "<a href=\"https://colab.research.google.com/github/KevinCris2021/KevinCris2021/blob/main/Ejercicios_Github_Clasificacion_.ipynb\" target=\"_parent\"><img src=\"https://colab.research.google.com/assets/colab-badge.svg\" alt=\"Open In Colab\"/></a>"
      ]
    },
    {
      "cell_type": "markdown",
      "metadata": {
        "id": "4rEM2ByjxaDn"
      },
      "source": [
        "# **Balanza**"
      ]
    },
    {
      "cell_type": "code",
      "metadata": {
        "id": "60xLKVa0xUPU"
      },
      "source": [
        "import numpy as np\n",
        "import pandas as pd\n",
        "import matplotlib.pyplot as plt\n",
        "import seaborn as sns"
      ],
      "execution_count": 1,
      "outputs": []
    },
    {
      "cell_type": "code",
      "metadata": {
        "id": "XAVTbkX5yVav"
      },
      "source": [
        "df = pd.read_csv('/content/drive/MyDrive/1. Base de Datos Python /Clustering/balance-scale.data')\n",
        "df.columns = ['Clase','IzquierdaPeso','IzquierdaDistancia','DerechaPeso','DerechaDistancia']"
      ],
      "execution_count": 5,
      "outputs": []
    },
    {
      "cell_type": "code",
      "metadata": {
        "colab": {
          "base_uri": "https://localhost:8080/",
          "height": 206
        },
        "id": "I5lhveUwzp2G",
        "outputId": "7c16fbab-44f7-4b59-85cb-21748ab38956"
      },
      "source": [
        "df.head()"
      ],
      "execution_count": 6,
      "outputs": [
        {
          "output_type": "execute_result",
          "data": {
            "text/html": [
              "<div>\n",
              "<style scoped>\n",
              "    .dataframe tbody tr th:only-of-type {\n",
              "        vertical-align: middle;\n",
              "    }\n",
              "\n",
              "    .dataframe tbody tr th {\n",
              "        vertical-align: top;\n",
              "    }\n",
              "\n",
              "    .dataframe thead th {\n",
              "        text-align: right;\n",
              "    }\n",
              "</style>\n",
              "<table border=\"1\" class=\"dataframe\">\n",
              "  <thead>\n",
              "    <tr style=\"text-align: right;\">\n",
              "      <th></th>\n",
              "      <th>Clase</th>\n",
              "      <th>IzquierdaPeso</th>\n",
              "      <th>IzquierdaDistancia</th>\n",
              "      <th>DerechaPeso</th>\n",
              "      <th>DerechaDistancia</th>\n",
              "    </tr>\n",
              "  </thead>\n",
              "  <tbody>\n",
              "    <tr>\n",
              "      <th>0</th>\n",
              "      <td>R</td>\n",
              "      <td>1</td>\n",
              "      <td>1</td>\n",
              "      <td>1</td>\n",
              "      <td>2</td>\n",
              "    </tr>\n",
              "    <tr>\n",
              "      <th>1</th>\n",
              "      <td>R</td>\n",
              "      <td>1</td>\n",
              "      <td>1</td>\n",
              "      <td>1</td>\n",
              "      <td>3</td>\n",
              "    </tr>\n",
              "    <tr>\n",
              "      <th>2</th>\n",
              "      <td>R</td>\n",
              "      <td>1</td>\n",
              "      <td>1</td>\n",
              "      <td>1</td>\n",
              "      <td>4</td>\n",
              "    </tr>\n",
              "    <tr>\n",
              "      <th>3</th>\n",
              "      <td>R</td>\n",
              "      <td>1</td>\n",
              "      <td>1</td>\n",
              "      <td>1</td>\n",
              "      <td>5</td>\n",
              "    </tr>\n",
              "    <tr>\n",
              "      <th>4</th>\n",
              "      <td>R</td>\n",
              "      <td>1</td>\n",
              "      <td>1</td>\n",
              "      <td>2</td>\n",
              "      <td>1</td>\n",
              "    </tr>\n",
              "  </tbody>\n",
              "</table>\n",
              "</div>"
            ],
            "text/plain": [
              "  Clase  IzquierdaPeso  IzquierdaDistancia  DerechaPeso  DerechaDistancia\n",
              "0     R              1                   1            1                 2\n",
              "1     R              1                   1            1                 3\n",
              "2     R              1                   1            1                 4\n",
              "3     R              1                   1            1                 5\n",
              "4     R              1                   1            2                 1"
            ]
          },
          "metadata": {},
          "execution_count": 6
        }
      ]
    },
    {
      "cell_type": "code",
      "metadata": {
        "colab": {
          "base_uri": "https://localhost:8080/"
        },
        "id": "ffmTCAAt0Up-",
        "outputId": "1efab67b-e112-47d5-c140-26e1fc2c38d5"
      },
      "source": [
        "len(df)"
      ],
      "execution_count": 7,
      "outputs": [
        {
          "output_type": "execute_result",
          "data": {
            "text/plain": [
              "624"
            ]
          },
          "metadata": {},
          "execution_count": 7
        }
      ]
    },
    {
      "cell_type": "code",
      "metadata": {
        "colab": {
          "base_uri": "https://localhost:8080/"
        },
        "id": "s00tYyqN0YEb",
        "outputId": "3adeb2e1-a665-4f49-92e9-f5a6e3c5bee4"
      },
      "source": [
        "df.info()"
      ],
      "execution_count": 8,
      "outputs": [
        {
          "output_type": "stream",
          "name": "stdout",
          "text": [
            "<class 'pandas.core.frame.DataFrame'>\n",
            "RangeIndex: 624 entries, 0 to 623\n",
            "Data columns (total 5 columns):\n",
            " #   Column              Non-Null Count  Dtype \n",
            "---  ------              --------------  ----- \n",
            " 0   Clase               624 non-null    object\n",
            " 1   IzquierdaPeso       624 non-null    int64 \n",
            " 2   IzquierdaDistancia  624 non-null    int64 \n",
            " 3   DerechaPeso         624 non-null    int64 \n",
            " 4   DerechaDistancia    624 non-null    int64 \n",
            "dtypes: int64(4), object(1)\n",
            "memory usage: 24.5+ KB\n"
          ]
        }
      ]
    },
    {
      "cell_type": "code",
      "metadata": {
        "colab": {
          "base_uri": "https://localhost:8080/",
          "height": 300
        },
        "id": "5bCthHq_0jxW",
        "outputId": "9f100301-fb79-4be7-9d4e-2039244ac06f"
      },
      "source": [
        "df.describe()"
      ],
      "execution_count": 9,
      "outputs": [
        {
          "output_type": "execute_result",
          "data": {
            "text/html": [
              "<div>\n",
              "<style scoped>\n",
              "    .dataframe tbody tr th:only-of-type {\n",
              "        vertical-align: middle;\n",
              "    }\n",
              "\n",
              "    .dataframe tbody tr th {\n",
              "        vertical-align: top;\n",
              "    }\n",
              "\n",
              "    .dataframe thead th {\n",
              "        text-align: right;\n",
              "    }\n",
              "</style>\n",
              "<table border=\"1\" class=\"dataframe\">\n",
              "  <thead>\n",
              "    <tr style=\"text-align: right;\">\n",
              "      <th></th>\n",
              "      <th>IzquierdaPeso</th>\n",
              "      <th>IzquierdaDistancia</th>\n",
              "      <th>DerechaPeso</th>\n",
              "      <th>DerechaDistancia</th>\n",
              "    </tr>\n",
              "  </thead>\n",
              "  <tbody>\n",
              "    <tr>\n",
              "      <th>count</th>\n",
              "      <td>624.000000</td>\n",
              "      <td>624.000000</td>\n",
              "      <td>624.000000</td>\n",
              "      <td>624.000000</td>\n",
              "    </tr>\n",
              "    <tr>\n",
              "      <th>mean</th>\n",
              "      <td>3.003205</td>\n",
              "      <td>3.003205</td>\n",
              "      <td>3.003205</td>\n",
              "      <td>3.003205</td>\n",
              "    </tr>\n",
              "    <tr>\n",
              "      <th>std</th>\n",
              "      <td>1.414210</td>\n",
              "      <td>1.414210</td>\n",
              "      <td>1.414210</td>\n",
              "      <td>1.414210</td>\n",
              "    </tr>\n",
              "    <tr>\n",
              "      <th>min</th>\n",
              "      <td>1.000000</td>\n",
              "      <td>1.000000</td>\n",
              "      <td>1.000000</td>\n",
              "      <td>1.000000</td>\n",
              "    </tr>\n",
              "    <tr>\n",
              "      <th>25%</th>\n",
              "      <td>2.000000</td>\n",
              "      <td>2.000000</td>\n",
              "      <td>2.000000</td>\n",
              "      <td>2.000000</td>\n",
              "    </tr>\n",
              "    <tr>\n",
              "      <th>50%</th>\n",
              "      <td>3.000000</td>\n",
              "      <td>3.000000</td>\n",
              "      <td>3.000000</td>\n",
              "      <td>3.000000</td>\n",
              "    </tr>\n",
              "    <tr>\n",
              "      <th>75%</th>\n",
              "      <td>4.000000</td>\n",
              "      <td>4.000000</td>\n",
              "      <td>4.000000</td>\n",
              "      <td>4.000000</td>\n",
              "    </tr>\n",
              "    <tr>\n",
              "      <th>max</th>\n",
              "      <td>5.000000</td>\n",
              "      <td>5.000000</td>\n",
              "      <td>5.000000</td>\n",
              "      <td>5.000000</td>\n",
              "    </tr>\n",
              "  </tbody>\n",
              "</table>\n",
              "</div>"
            ],
            "text/plain": [
              "       IzquierdaPeso  IzquierdaDistancia  DerechaPeso  DerechaDistancia\n",
              "count     624.000000          624.000000   624.000000        624.000000\n",
              "mean        3.003205            3.003205     3.003205          3.003205\n",
              "std         1.414210            1.414210     1.414210          1.414210\n",
              "min         1.000000            1.000000     1.000000          1.000000\n",
              "25%         2.000000            2.000000     2.000000          2.000000\n",
              "50%         3.000000            3.000000     3.000000          3.000000\n",
              "75%         4.000000            4.000000     4.000000          4.000000\n",
              "max         5.000000            5.000000     5.000000          5.000000"
            ]
          },
          "metadata": {},
          "execution_count": 9
        }
      ]
    },
    {
      "cell_type": "markdown",
      "metadata": {
        "id": "Y4DLpJrw087Y"
      },
      "source": [
        "Este conjunto de datos se generó para modelar la psicología\n",
        "resultados experimentales. Cada ejemplo se clasifica como teniendo el\n",
        "Equilibrar la punta de la balanza hacia la derecha, la punta hacia la izquierda o ser\n",
        "equilibrado. Los atributos son el peso izquierdo, el izquierdo\n",
        "distancia, el peso correcto y la distancia correcta. los\n",
        "La forma correcta de encontrar la clase es la mayor de\n",
        "(distancia a la izquierda * peso a la izquierda) y (distancia a la derecha *\n",
        "peso correcto). Si son iguales, está equilibrado."
      ]
    },
    {
      "cell_type": "code",
      "metadata": {
        "id": "TBCOVt6Y2zGv"
      },
      "source": [
        "df.hist(bins = 5, figsize=(20,20),color= 'r')"
      ],
      "execution_count": null,
      "outputs": []
    },
    {
      "cell_type": "code",
      "metadata": {
        "id": "K0_iOgGH5as4"
      },
      "source": [
        "correlations = df.corr()"
      ],
      "execution_count": 23,
      "outputs": []
    },
    {
      "cell_type": "code",
      "metadata": {
        "colab": {
          "base_uri": "https://localhost:8080/",
          "height": 1000
        },
        "id": "CXcyYot95OTQ",
        "outputId": "1f33194e-730a-49f2-cadb-be1dc84b6260"
      },
      "source": [
        "f,ax = plt.subplots (figsize =(20,20))\n",
        "sns.heatmap(correlations,annot=True)"
      ],
      "execution_count": 24,
      "outputs": [
        {
          "output_type": "execute_result",
          "data": {
            "text/plain": [
              "<matplotlib.axes._subplots.AxesSubplot at 0x7fb58127af10>"
            ]
          },
          "metadata": {},
          "execution_count": 24
        },
        {
          "output_type": "display_data",
          "data": {
            "image/png": "[encoded data removed]",
            "text/plain": [
              "<Figure size 1440x1440 with 2 Axes>"
            ]
          },
          "metadata": {
            "needs_background": "light"
          }
        }
      ]
    },
    {
      "cell_type": "code",
      "metadata": {
        "colab": {
          "base_uri": "https://localhost:8080/"
        },
        "id": "Mt8OXGMt5wZx",
        "outputId": "52ea941e-51c4-4ef0-89fa-df1671fbd8c5"
      },
      "source": [
        "n = len(df.columns)\n",
        "n"
      ],
      "execution_count": 25,
      "outputs": [
        {
          "output_type": "execute_result",
          "data": {
            "text/plain": [
              "5"
            ]
          },
          "metadata": {},
          "execution_count": 25
        }
      ]
    },
    {
      "cell_type": "code",
      "metadata": {
        "id": "p-FSTOoO6f7w"
      },
      "source": [
        "from sklearn.cluster import KMeans\n",
        "from sklearn.decomposition import PCA"
      ],
      "execution_count": 39,
      "outputs": []
    },
    {
      "cell_type": "code",
      "metadata": {
        "colab": {
          "base_uri": "https://localhost:8080/"
        },
        "id": "-lHVRYj45gJz",
        "outputId": "8f47fc62-b487-4e22-f524-c78622a78bcf"
      },
      "source": [
        "for i in df.columns:\n",
        "  print(i,df[i].unique())"
      ],
      "execution_count": 37,
      "outputs": [
        {
          "output_type": "stream",
          "name": "stdout",
          "text": [
            "Clase ['R' 'L' 'B']\n",
            "IzquierdaPeso [1 2 3 4 5]\n",
            "IzquierdaDistancia [1 2 3 4 5]\n",
            "DerechaPeso [1 2 3 4 5]\n",
            "DerechaDistancia [2 3 4 5 1]\n"
          ]
        }
      ]
    },
    {
      "cell_type": "code",
      "metadata": {
        "id": "h-ZsNI9V7VXo"
      },
      "source": [
        "df['Clase'] = df['Clase'].replace({\"R\": 1, \"L\": 2,'B':0})"
      ],
      "execution_count": 41,
      "outputs": []
    },
    {
      "cell_type": "code",
      "metadata": {
        "colab": {
          "base_uri": "https://localhost:8080/",
          "height": 206
        },
        "id": "TfqkVEdtDj5S",
        "outputId": "fabdce00-0563-4d14-8cef-cad20c274baf"
      },
      "source": [
        "df.head()"
      ],
      "execution_count": 42,
      "outputs": [
        {
          "output_type": "execute_result",
          "data": {
            "text/html": [
              "<div>\n",
              "<style scoped>\n",
              "    .dataframe tbody tr th:only-of-type {\n",
              "        vertical-align: middle;\n",
              "    }\n",
              "\n",
              "    .dataframe tbody tr th {\n",
              "        vertical-align: top;\n",
              "    }\n",
              "\n",
              "    .dataframe thead th {\n",
              "        text-align: right;\n",
              "    }\n",
              "</style>\n",
              "<table border=\"1\" class=\"dataframe\">\n",
              "  <thead>\n",
              "    <tr style=\"text-align: right;\">\n",
              "      <th></th>\n",
              "      <th>Clase</th>\n",
              "      <th>IzquierdaPeso</th>\n",
              "      <th>IzquierdaDistancia</th>\n",
              "      <th>DerechaPeso</th>\n",
              "      <th>DerechaDistancia</th>\n",
              "    </tr>\n",
              "  </thead>\n",
              "  <tbody>\n",
              "    <tr>\n",
              "      <th>0</th>\n",
              "      <td>1</td>\n",
              "      <td>1</td>\n",
              "      <td>1</td>\n",
              "      <td>1</td>\n",
              "      <td>2</td>\n",
              "    </tr>\n",
              "    <tr>\n",
              "      <th>1</th>\n",
              "      <td>1</td>\n",
              "      <td>1</td>\n",
              "      <td>1</td>\n",
              "      <td>1</td>\n",
              "      <td>3</td>\n",
              "    </tr>\n",
              "    <tr>\n",
              "      <th>2</th>\n",
              "      <td>1</td>\n",
              "      <td>1</td>\n",
              "      <td>1</td>\n",
              "      <td>1</td>\n",
              "      <td>4</td>\n",
              "    </tr>\n",
              "    <tr>\n",
              "      <th>3</th>\n",
              "      <td>1</td>\n",
              "      <td>1</td>\n",
              "      <td>1</td>\n",
              "      <td>1</td>\n",
              "      <td>5</td>\n",
              "    </tr>\n",
              "    <tr>\n",
              "      <th>4</th>\n",
              "      <td>1</td>\n",
              "      <td>1</td>\n",
              "      <td>1</td>\n",
              "      <td>2</td>\n",
              "      <td>1</td>\n",
              "    </tr>\n",
              "  </tbody>\n",
              "</table>\n",
              "</div>"
            ],
            "text/plain": [
              "   Clase  IzquierdaPeso  IzquierdaDistancia  DerechaPeso  DerechaDistancia\n",
              "0      1              1                   1            1                 2\n",
              "1      1              1                   1            1                 3\n",
              "2      1              1                   1            1                 4\n",
              "3      1              1                   1            1                 5\n",
              "4      1              1                   1            2                 1"
            ]
          },
          "metadata": {},
          "execution_count": 42
        }
      ]
    },
    {
      "cell_type": "code",
      "metadata": {
        "colab": {
          "base_uri": "https://localhost:8080/"
        },
        "id": "4Eaeu_R6DnkI",
        "outputId": "98279a3d-530e-45da-83ea-3e28a3a6f106"
      },
      "source": [
        "df['Clase'].unique()"
      ],
      "execution_count": 43,
      "outputs": [
        {
          "output_type": "execute_result",
          "data": {
            "text/plain": [
              "array([1, 2, 0])"
            ]
          },
          "metadata": {},
          "execution_count": 43
        }
      ]
    },
    {
      "cell_type": "code",
      "metadata": {
        "colab": {
          "base_uri": "https://localhost:8080/",
          "height": 295
        },
        "id": "brEu28Mq6Vb1",
        "outputId": "ee593748-fbe2-4f0f-a688-69f839cf8db3"
      },
      "source": [
        "scores_1 = []\n",
        "\n",
        "range_values = range(1,20)\n",
        "\n",
        "for i in range_values:\n",
        "\n",
        "  kmeans = KMeans(n_clusters=i)\n",
        "  kmeans.fit(df)\n",
        "  scores_1.append(kmeans.inertia_)\n",
        "\n",
        "plt.plot(range_values,scores_1, 'bx-')\n",
        "plt.title('Encontrar el número optimo de clusters')\n",
        "plt.xlabel('Clusters')\n",
        "plt.ylabel('WCSS(k)')\n",
        "plt.show()"
      ],
      "execution_count": 44,
      "outputs": [
        {
          "output_type": "display_data",
          "data": {
            "image/png": "[encoded data removed]",
            "text/plain": [
              "<Figure size 432x288 with 1 Axes>"
            ]
          },
          "metadata": {
            "needs_background": "light"
          }
        }
      ]
    },
    {
      "cell_type": "markdown",
      "metadata": {
        "id": "jfbdIOTzEmqA"
      },
      "source": [
        "Aplicación de Método KMeans"
      ]
    },
    {
      "cell_type": "code",
      "metadata": {
        "id": "9PMwPFfLGtA0"
      },
      "source": [
        "kmeans = KMeans(8)\n",
        "kmeans.fit(df)\n",
        "labels = kmeans.labels_"
      ],
      "execution_count": 48,
      "outputs": []
    },
    {
      "cell_type": "code",
      "metadata": {
        "id": "zcJTYQ53G27Y"
      },
      "source": [
        "labels"
      ],
      "execution_count": null,
      "outputs": []
    },
    {
      "cell_type": "code",
      "metadata": {
        "colab": {
          "base_uri": "https://localhost:8080/"
        },
        "id": "z3wuAYctG7WJ",
        "outputId": "49b7a004-72ac-4cad-b6af-a42f29081088"
      },
      "source": [
        "kmeans.cluster_centers_.shape"
      ],
      "execution_count": 50,
      "outputs": [
        {
          "output_type": "execute_result",
          "data": {
            "text/plain": [
              "(8, 5)"
            ]
          },
          "metadata": {},
          "execution_count": 50
        }
      ]
    },
    {
      "cell_type": "code",
      "metadata": {
        "colab": {
          "base_uri": "https://localhost:8080/",
          "height": 300
        },
        "id": "k0yihTk5HFRT",
        "outputId": "0aa3c675-3114-4071-d67f-4b6c182d875b"
      },
      "source": [
        "cluster_centers = pd.DataFrame(data = kmeans.cluster_centers_, columns= [df.columns])\n",
        "cluster_centers"
      ],
      "execution_count": 51,
      "outputs": [
        {
          "output_type": "execute_result",
          "data": {
            "text/html": [
              "<div>\n",
              "<style scoped>\n",
              "    .dataframe tbody tr th:only-of-type {\n",
              "        vertical-align: middle;\n",
              "    }\n",
              "\n",
              "    .dataframe tbody tr th {\n",
              "        vertical-align: top;\n",
              "    }\n",
              "\n",
              "    .dataframe thead tr th {\n",
              "        text-align: left;\n",
              "    }\n",
              "</style>\n",
              "<table border=\"1\" class=\"dataframe\">\n",
              "  <thead>\n",
              "    <tr>\n",
              "      <th></th>\n",
              "      <th>Clase</th>\n",
              "      <th>IzquierdaPeso</th>\n",
              "      <th>IzquierdaDistancia</th>\n",
              "      <th>DerechaPeso</th>\n",
              "      <th>DerechaDistancia</th>\n",
              "    </tr>\n",
              "  </thead>\n",
              "  <tbody>\n",
              "    <tr>\n",
              "      <th>0</th>\n",
              "      <td>1.918605</td>\n",
              "      <td>4.197674</td>\n",
              "      <td>2.255814</td>\n",
              "      <td>1.906977</td>\n",
              "      <td>1.872093</td>\n",
              "    </tr>\n",
              "    <tr>\n",
              "      <th>1</th>\n",
              "      <td>0.884615</td>\n",
              "      <td>1.833333</td>\n",
              "      <td>4.230769</td>\n",
              "      <td>3.884615</td>\n",
              "      <td>4.153846</td>\n",
              "    </tr>\n",
              "    <tr>\n",
              "      <th>2</th>\n",
              "      <td>2.000000</td>\n",
              "      <td>3.954545</td>\n",
              "      <td>4.212121</td>\n",
              "      <td>4.151515</td>\n",
              "      <td>1.681818</td>\n",
              "    </tr>\n",
              "    <tr>\n",
              "      <th>3</th>\n",
              "      <td>0.922222</td>\n",
              "      <td>1.722222</td>\n",
              "      <td>1.977778</td>\n",
              "      <td>3.988889</td>\n",
              "      <td>2.077778</td>\n",
              "    </tr>\n",
              "    <tr>\n",
              "      <th>4</th>\n",
              "      <td>2.000000</td>\n",
              "      <td>4.026316</td>\n",
              "      <td>4.302632</td>\n",
              "      <td>1.921053</td>\n",
              "      <td>3.973684</td>\n",
              "    </tr>\n",
              "    <tr>\n",
              "      <th>5</th>\n",
              "      <td>0.866667</td>\n",
              "      <td>4.133333</td>\n",
              "      <td>2.077778</td>\n",
              "      <td>4.200000</td>\n",
              "      <td>3.933333</td>\n",
              "    </tr>\n",
              "    <tr>\n",
              "      <th>6</th>\n",
              "      <td>0.962500</td>\n",
              "      <td>2.175000</td>\n",
              "      <td>1.800000</td>\n",
              "      <td>1.862500</td>\n",
              "      <td>4.162500</td>\n",
              "    </tr>\n",
              "    <tr>\n",
              "      <th>7</th>\n",
              "      <td>1.862069</td>\n",
              "      <td>1.758621</td>\n",
              "      <td>4.068966</td>\n",
              "      <td>1.741379</td>\n",
              "      <td>1.758621</td>\n",
              "    </tr>\n",
              "  </tbody>\n",
              "</table>\n",
              "</div>"
            ],
            "text/plain": [
              "      Clase IzquierdaPeso IzquierdaDistancia DerechaPeso DerechaDistancia\n",
              "0  1.918605      4.197674           2.255814    1.906977         1.872093\n",
              "1  0.884615      1.833333           4.230769    3.884615         4.153846\n",
              "2  2.000000      3.954545           4.212121    4.151515         1.681818\n",
              "3  0.922222      1.722222           1.977778    3.988889         2.077778\n",
              "4  2.000000      4.026316           4.302632    1.921053         3.973684\n",
              "5  0.866667      4.133333           2.077778    4.200000         3.933333\n",
              "6  0.962500      2.175000           1.800000    1.862500         4.162500\n",
              "7  1.862069      1.758621           4.068966    1.741379         1.758621"
            ]
          },
          "metadata": {},
          "execution_count": 51
        }
      ]
    },
    {
      "cell_type": "code",
      "metadata": {
        "colab": {
          "base_uri": "https://localhost:8080/",
          "height": 206
        },
        "id": "wYSOMKkeHOxV",
        "outputId": "9b50c5fc-d298-4ae4-c895-d2bf9ed649b5"
      },
      "source": [
        "df_cluster = pd.concat([df,pd.DataFrame({'cluster':labels})],axis=1)\n",
        "\n",
        "df_cluster.head()"
      ],
      "execution_count": 53,
      "outputs": [
        {
          "output_type": "execute_result",
          "data": {
            "text/html": [
              "<div>\n",
              "<style scoped>\n",
              "    .dataframe tbody tr th:only-of-type {\n",
              "        vertical-align: middle;\n",
              "    }\n",
              "\n",
              "    .dataframe tbody tr th {\n",
              "        vertical-align: top;\n",
              "    }\n",
              "\n",
              "    .dataframe thead th {\n",
              "        text-align: right;\n",
              "    }\n",
              "</style>\n",
              "<table border=\"1\" class=\"dataframe\">\n",
              "  <thead>\n",
              "    <tr style=\"text-align: right;\">\n",
              "      <th></th>\n",
              "      <th>Clase</th>\n",
              "      <th>IzquierdaPeso</th>\n",
              "      <th>IzquierdaDistancia</th>\n",
              "      <th>DerechaPeso</th>\n",
              "      <th>DerechaDistancia</th>\n",
              "      <th>cluster</th>\n",
              "    </tr>\n",
              "  </thead>\n",
              "  <tbody>\n",
              "    <tr>\n",
              "      <th>0</th>\n",
              "      <td>1</td>\n",
              "      <td>1</td>\n",
              "      <td>1</td>\n",
              "      <td>1</td>\n",
              "      <td>2</td>\n",
              "      <td>6</td>\n",
              "    </tr>\n",
              "    <tr>\n",
              "      <th>1</th>\n",
              "      <td>1</td>\n",
              "      <td>1</td>\n",
              "      <td>1</td>\n",
              "      <td>1</td>\n",
              "      <td>3</td>\n",
              "      <td>6</td>\n",
              "    </tr>\n",
              "    <tr>\n",
              "      <th>2</th>\n",
              "      <td>1</td>\n",
              "      <td>1</td>\n",
              "      <td>1</td>\n",
              "      <td>1</td>\n",
              "      <td>4</td>\n",
              "      <td>6</td>\n",
              "    </tr>\n",
              "    <tr>\n",
              "      <th>3</th>\n",
              "      <td>1</td>\n",
              "      <td>1</td>\n",
              "      <td>1</td>\n",
              "      <td>1</td>\n",
              "      <td>5</td>\n",
              "      <td>6</td>\n",
              "    </tr>\n",
              "    <tr>\n",
              "      <th>4</th>\n",
              "      <td>1</td>\n",
              "      <td>1</td>\n",
              "      <td>1</td>\n",
              "      <td>2</td>\n",
              "      <td>1</td>\n",
              "      <td>3</td>\n",
              "    </tr>\n",
              "  </tbody>\n",
              "</table>\n",
              "</div>"
            ],
            "text/plain": [
              "   Clase  IzquierdaPeso  ...  DerechaDistancia  cluster\n",
              "0      1              1  ...                 2        6\n",
              "1      1              1  ...                 3        6\n",
              "2      1              1  ...                 4        6\n",
              "3      1              1  ...                 5        6\n",
              "4      1              1  ...                 1        3\n",
              "\n",
              "[5 rows x 6 columns]"
            ]
          },
          "metadata": {},
          "execution_count": 53
        }
      ]
    },
    {
      "cell_type": "code",
      "metadata": {
        "id": "EE6-akZvIjFq"
      },
      "source": [
        "#visualización histogramas para cada cluster"
      ],
      "execution_count": null,
      "outputs": []
    },
    {
      "cell_type": "code",
      "metadata": {
        "colab": {
          "base_uri": "https://localhost:8080/",
          "height": 1000
        },
        "id": "kA2Ck7KFHlbH",
        "outputId": "ea2dd7d7-ef8d-452b-f7f0-83039cf7bf83"
      },
      "source": [
        "for i in df.columns:\n",
        "  plt.figure(figsize=(35,5))\n",
        "  for j in range(8):\n",
        "    plt.subplot(1,8,j+1)\n",
        "    cluster = df_cluster[df_cluster['cluster']==j]\n",
        "    cluster[i].hist(bins= 5 )\n",
        "    \n",
        "plt.show()"
      ],
      "execution_count": 55,
      "outputs": [
        {
          "output_type": "display_data",
          "data": {
            "image/png": "[encoded data removed]",
            "text/plain": [
              "<Figure size 2520x360 with 8 Axes>"
            ]
          },
          "metadata": {
            "needs_background": "light"
          }
        },
        {
          "output_type": "display_data",
          "data": {
            "image/png": "[encoded data removed]",
            "text/plain": [
              "<Figure size 2520x360 with 8 Axes>"
            ]
          },
          "metadata": {
            "needs_background": "light"
          }
        },
        {
          "output_type": "display_data",
          "data": {
            "image/png": "[encoded data removed]",
            "text/plain": [
              "<Figure size 2520x360 with 8 Axes>"
            ]
          },
          "metadata": {
            "needs_background": "light"
          }
        },
        {
          "output_type": "display_data",
          "data": {
            "image/png": "[encoded data removed]",
            "text/plain": [
              "<Figure size 2520x360 with 8 Axes>"
            ]
          },
          "metadata": {
            "needs_background": "light"
          }
        },
        {
          "output_type": "display_data",
          "data": {
            "image/png": "[encoded data removed]",
            "text/plain": [
              "<Figure size 2520x360 with 8 Axes>"
            ]
          },
          "metadata": {
            "needs_background": "light"
          }
        }
      ]
    },
    {
      "cell_type": "code",
      "metadata": {
        "colab": {
          "base_uri": "https://localhost:8080/"
        },
        "id": "mf95yWWzJUJR",
        "outputId": "85202a85-2243-41e5-d91c-7b387212fe66"
      },
      "source": [
        "pca = PCA(n_components=2)\n",
        "principal_comp = pca.fit_transform(df)\n",
        "principal_comp"
      ],
      "execution_count": 56,
      "outputs": [
        {
          "output_type": "execute_result",
          "data": {
            "text/plain": [
              "array([[-6.20960926e-01,  6.96817014e-01],\n",
              "       [-1.09400463e+00,  1.39363403e+00],\n",
              "       [-1.56704833e+00,  2.09045104e+00],\n",
              "       ...,\n",
              "       [ 1.16280726e+00, -1.39363403e+00],\n",
              "       [ 6.89763557e-01, -6.96817014e-01],\n",
              "       [-3.80486754e-01,  6.33672044e-14]])"
            ]
          },
          "metadata": {},
          "execution_count": 56
        }
      ]
    },
    {
      "cell_type": "code",
      "metadata": {
        "colab": {
          "base_uri": "https://localhost:8080/",
          "height": 206
        },
        "id": "R1tamnmUJiEj",
        "outputId": "119de715-6265-440f-8521-f5d9b420278f"
      },
      "source": [
        "pca_df = pd.DataFrame(data = principal_comp, columns=['pca1','pca2'])\n",
        "pca_df.head()"
      ],
      "execution_count": 57,
      "outputs": [
        {
          "output_type": "execute_result",
          "data": {
            "text/html": [
              "<div>\n",
              "<style scoped>\n",
              "    .dataframe tbody tr th:only-of-type {\n",
              "        vertical-align: middle;\n",
              "    }\n",
              "\n",
              "    .dataframe tbody tr th {\n",
              "        vertical-align: top;\n",
              "    }\n",
              "\n",
              "    .dataframe thead th {\n",
              "        text-align: right;\n",
              "    }\n",
              "</style>\n",
              "<table border=\"1\" class=\"dataframe\">\n",
              "  <thead>\n",
              "    <tr style=\"text-align: right;\">\n",
              "      <th></th>\n",
              "      <th>pca1</th>\n",
              "      <th>pca2</th>\n",
              "    </tr>\n",
              "  </thead>\n",
              "  <tbody>\n",
              "    <tr>\n",
              "      <th>0</th>\n",
              "      <td>-0.620961</td>\n",
              "      <td>0.696817</td>\n",
              "    </tr>\n",
              "    <tr>\n",
              "      <th>1</th>\n",
              "      <td>-1.094005</td>\n",
              "      <td>1.393634</td>\n",
              "    </tr>\n",
              "    <tr>\n",
              "      <th>2</th>\n",
              "      <td>-1.567048</td>\n",
              "      <td>2.090451</td>\n",
              "    </tr>\n",
              "    <tr>\n",
              "      <th>3</th>\n",
              "      <td>-2.040092</td>\n",
              "      <td>2.787268</td>\n",
              "    </tr>\n",
              "    <tr>\n",
              "      <th>4</th>\n",
              "      <td>-0.620961</td>\n",
              "      <td>-0.696817</td>\n",
              "    </tr>\n",
              "  </tbody>\n",
              "</table>\n",
              "</div>"
            ],
            "text/plain": [
              "       pca1      pca2\n",
              "0 -0.620961  0.696817\n",
              "1 -1.094005  1.393634\n",
              "2 -1.567048  2.090451\n",
              "3 -2.040092  2.787268\n",
              "4 -0.620961 -0.696817"
            ]
          },
          "metadata": {},
          "execution_count": 57
        }
      ]
    },
    {
      "cell_type": "code",
      "metadata": {
        "colab": {
          "base_uri": "https://localhost:8080/",
          "height": 206
        },
        "id": "0Svd8jR5JzF0",
        "outputId": "345385d2-93d0-4dfb-fb7f-de6c0267646f"
      },
      "source": [
        "#Concatenamos las etiquetas de los clusters con el dataframe de las componentes principales\n",
        "\n",
        "pca_df = pd.concat([pca_df,pd.DataFrame({'cluster':labels})],axis=1)\n",
        "pca_df.head()"
      ],
      "execution_count": 58,
      "outputs": [
        {
          "output_type": "execute_result",
          "data": {
            "text/html": [
              "<div>\n",
              "<style scoped>\n",
              "    .dataframe tbody tr th:only-of-type {\n",
              "        vertical-align: middle;\n",
              "    }\n",
              "\n",
              "    .dataframe tbody tr th {\n",
              "        vertical-align: top;\n",
              "    }\n",
              "\n",
              "    .dataframe thead th {\n",
              "        text-align: right;\n",
              "    }\n",
              "</style>\n",
              "<table border=\"1\" class=\"dataframe\">\n",
              "  <thead>\n",
              "    <tr style=\"text-align: right;\">\n",
              "      <th></th>\n",
              "      <th>pca1</th>\n",
              "      <th>pca2</th>\n",
              "      <th>cluster</th>\n",
              "    </tr>\n",
              "  </thead>\n",
              "  <tbody>\n",
              "    <tr>\n",
              "      <th>0</th>\n",
              "      <td>-0.620961</td>\n",
              "      <td>0.696817</td>\n",
              "      <td>6</td>\n",
              "    </tr>\n",
              "    <tr>\n",
              "      <th>1</th>\n",
              "      <td>-1.094005</td>\n",
              "      <td>1.393634</td>\n",
              "      <td>6</td>\n",
              "    </tr>\n",
              "    <tr>\n",
              "      <th>2</th>\n",
              "      <td>-1.567048</td>\n",
              "      <td>2.090451</td>\n",
              "      <td>6</td>\n",
              "    </tr>\n",
              "    <tr>\n",
              "      <th>3</th>\n",
              "      <td>-2.040092</td>\n",
              "      <td>2.787268</td>\n",
              "      <td>6</td>\n",
              "    </tr>\n",
              "    <tr>\n",
              "      <th>4</th>\n",
              "      <td>-0.620961</td>\n",
              "      <td>-0.696817</td>\n",
              "      <td>3</td>\n",
              "    </tr>\n",
              "  </tbody>\n",
              "</table>\n",
              "</div>"
            ],
            "text/plain": [
              "       pca1      pca2  cluster\n",
              "0 -0.620961  0.696817        6\n",
              "1 -1.094005  1.393634        6\n",
              "2 -1.567048  2.090451        6\n",
              "3 -2.040092  2.787268        6\n",
              "4 -0.620961 -0.696817        3"
            ]
          },
          "metadata": {},
          "execution_count": 58
        }
      ]
    },
    {
      "cell_type": "code",
      "metadata": {
        "colab": {
          "base_uri": "https://localhost:8080/",
          "height": 606
        },
        "id": "jfdxTEIpKDi6",
        "outputId": "ad24ca16-449e-45e6-db4e-1efba6ea2ffc"
      },
      "source": [
        "plt.figure(figsize=(10,10))\n",
        "\n",
        "ax= sns.scatterplot(x= 'pca1',y= 'pca2',hue= 'cluster',data= pca_df,\n",
        "                     palette = ['red','green','blue','pink','yellow','gray','purple','black'])\n",
        "\n",
        "plt.show()"
      ],
      "execution_count": 60,
      "outputs": [
        {
          "output_type": "display_data",
          "data": {
            "image/png": "[encoded data removed]",
            "text/plain": [
              "<Figure size 720x720 with 1 Axes>"
            ]
          },
          "metadata": {
            "needs_background": "light"
          }
        }
      ]
    },
    {
      "cell_type": "code",
      "metadata": {
        "id": "4fnByvKVKZXJ"
      },
      "source": [
        ""
      ],
      "execution_count": null,
      "outputs": []
    },
    {
      "cell_type": "code",
      "metadata": {
        "id": "dTzA15ZaKUu7"
      },
      "source": [
        ""
      ],
      "execution_count": null,
      "outputs": []
    },
    {
      "cell_type": "code",
      "metadata": {
        "id": "p7Y92ZGfJSHc"
      },
      "source": [
        ""
      ],
      "execution_count": null,
      "outputs": []
    },
    {
      "cell_type": "code",
      "metadata": {
        "id": "8RvH-oLm6MFz"
      },
      "source": [
        ""
      ],
      "execution_count": null,
      "outputs": []
    },
    {
      "cell_type": "code",
      "metadata": {
        "id": "qkSOBW4w56xn"
      },
      "source": [
        ""
      ],
      "execution_count": null,
      "outputs": []
    },
    {
      "cell_type": "code",
      "metadata": {
        "id": "kPbjyv5z0n5T"
      },
      "source": [
        ""
      ],
      "execution_count": null,
      "outputs": []
    }
  ]
}